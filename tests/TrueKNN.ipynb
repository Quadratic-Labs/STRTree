{
 "cells": [
  {
   "cell_type": "code",
   "execution_count": 1,
   "metadata": {
    "collapsed": false,
    "nbpresent": {
     "id": "53eab9de-6ab2-407d-bc71-e25acb7b1baf"
    },
    "slideshow": {
     "slide_type": "skip"
    }
   },
   "outputs": [],
   "source": [
    "%matplotlib inline\n",
    "import spindex.pandas\n",
    "import shapely.geometry\n",
    "import pandas\n",
    "import geopandas\n",
    "geoms = [shapely.geometry.LineString([(0, 0), (1, 1)]), shapely.geometry.LineString([(3, 0), (-2, 2)])]\n",
    "attributes = ['z', 'y']\n",
    "left_df = geopandas.GeoDataFrame({'geometry': geoms, 'attr': attributes})\n",
    "left_df.index.name = 'left_id'\n",
    "geoms = [shapely.geometry.LineString([(0, 1), (1, 2)]), shapely.geometry.LineString([(1, 0), (2, 2)]), shapely.geometry.LineString([(1, 1.1), (0, 2)]), shapely.geometry.LineString([(0, 0), (2, 0), (2, 2),(0, 2), (0, 0)]),shapely.geometry.LineString([(-1.3, 0), (-1, 2)]), shapely.geometry.LineString([(-1.3, 0), (-1, 2)]), shapely.geometry.LineString([(-1, -1), (-0.5, 0)]), shapely.geometry.LineString([(-10, 0), (-1, 5)]), shapely.geometry.LineString([(0.5, -0.5), (0, -1), (-1, 4)]), shapely.geometry.LineString([(4, 0.6), (-3, 0.5)])]\n",
    "attributes = ['A', 'B', 'A', 'B', 'B', 'C', 'D', 'C', 'E', 'E']\n",
    "right_df = geopandas.GeoDataFrame({'geometry': geoms, 'attr': attributes})\n",
    "right_df.index.name = 'right_id'"
   ]
  },
  {
   "cell_type": "code",
   "execution_count": 5,
   "metadata": {
    "collapsed": false,
    "nbpresent": {
     "id": "24719f20-5d22-4b70-a5a2-b6a563deaf7e"
    },
    "slideshow": {
     "slide_type": "slide"
    }
   },
   "outputs": [
    {
     "data": {
      "text/plain": [
       "<matplotlib.axes._subplots.AxesSubplot at 0x75047e076ac8>"
      ]
     },
     "execution_count": 5,
     "metadata": {},
     "output_type": "execute_result"
    },
    {
     "data": {
      "image/png": "[encoded data removed]",
      "text/plain": [
       "<matplotlib.figure.Figure at 0x75047e1b2eb8>"
      ]
     },
     "metadata": {},
     "output_type": "display_data"
    }
   ],
   "source": [
    "df_viz = left_df.copy()\n",
    "df_viz.index = [100, 101]\n",
    "df_viz['color'] = 'left'\n",
    "df_viz = pandas.concat([df_viz, right_df])\n",
    "df_viz['color'] = df_viz['color'].fillna('right')\n",
    "df_viz.drop(101).plot(column='color', cmap='plasma')"
   ]
  },
  {
   "cell_type": "markdown",
   "metadata": {
    "nbpresent": {
     "id": "7453bf39-e4a7-440c-94be-17a5f05fe104"
    },
    "slideshow": {
     "slide_type": "slide"
    }
   },
   "source": [
    "## True 3-nearest neighbours using pairwise distances"
   ]
  },
  {
   "cell_type": "code",
   "execution_count": 3,
   "metadata": {
    "collapsed": false,
    "nbpresent": {
     "id": "d4db18f1-16dd-4bf8-b60f-d7b344da988a"
    },
    "slideshow": {
     "slide_type": "fragment"
    }
   },
   "outputs": [
    {
     "data": {
      "text/plain": [
       "<matplotlib.axes._subplots.AxesSubplot at 0x75047e239208>"
      ]
     },
     "execution_count": 3,
     "metadata": {},
     "output_type": "execute_result"
    },
    {
     "data": {
      "image/png": "[encoded data removed]",
      "text/plain": [
       "<matplotlib.figure.Figure at 0x7504c26bca58>"
      ]
     },
     "metadata": {},
     "output_type": "display_data"
    }
   ],
   "source": [
    "lg = left_df.loc[0, 'geometry']\n",
    "ridx = right_df.geometry.apply(lambda g: lg.distance(g)).sort_values().index[:3].tolist()\n",
    "df_viz.loc[[100] + ridx].plot(cmap='plasma')"
   ]
  },
  {
   "cell_type": "markdown",
   "metadata": {
    "nbpresent": {
     "id": "57fcbc84-36f9-4cd8-94f8-0f91a1f7b9b6"
    },
    "slideshow": {
     "slide_type": "slide"
    }
   },
   "source": [
    "## Index-assisted approximate 3-nearest neighbours using rtree"
   ]
  },
  {
   "cell_type": "code",
   "execution_count": 4,
   "metadata": {
    "collapsed": false,
    "nbpresent": {
     "id": "73d3d635-f4c1-4530-994f-e7e96d4571e5"
    },
    "slideshow": {
     "slide_type": "fragment"
    }
   },
   "outputs": [
    {
     "data": {
      "text/plain": [
       "<matplotlib.axes._subplots.AxesSubplot at 0x75047e1a0198>"
      ]
     },
     "execution_count": 4,
     "metadata": {},
     "output_type": "execute_result"
    },
    {
     "data": {
      "image/png": "[encoded data removed]",
      "text/plain": [
       "<matplotlib.figure.Figure at 0x75047e1a8e48>"
      ]
     },
     "metadata": {},
     "output_type": "display_data"
    }
   ],
   "source": [
    "import rtree\n",
    "sindex = rtree.index.Index(((i, b, None) for i, b in right_df.geometry.apply(lambda g: g.bounds).iteritems()))\n",
    "tmp = list(sindex.nearest(lg.bounds, 3))\n",
    "ridx2 = right_df.loc[tmp, 'geometry'].apply(lambda g: lg.distance(g)).sort_values().index[:3].tolist()\n",
    "df_viz.loc[[100] + ridx2].plot(cmap='plasma')"
   ]
  }
 ],
 "metadata": {
  "kernelspec": {
   "display_name": "Python [conda env:anaconda3]",
   "language": "python",
   "name": "conda-env-anaconda3-py"
  },
  "language_info": {
   "codemirror_mode": {
    "name": "ipython",
    "version": 3
   },
   "file_extension": ".py",
   "mimetype": "text/x-python",
   "name": "python",
   "nbconvert_exporter": "python",
   "pygments_lexer": "ipython3",
   "version": "3.5.3"
  },
  "nbpresent": {
   "slides": {
    "584bdfc7-ed27-462b-8c18-1e1525892f7c": {
     "id": "584bdfc7-ed27-462b-8c18-1e1525892f7c",
     "prev": null,
     "regions": {
      "3f5618a5-11c6-44de-b7f7-1c474910f52b": {
       "attrs": {
        "height": 1,
        "width": 1,
        "x": 0,
        "y": 0
       },
       "id": "3f5618a5-11c6-44de-b7f7-1c474910f52b"
      }
     }
    }
   },
   "themes": {}
  }
 },
 "nbformat": 4,
 "nbformat_minor": 1
}
